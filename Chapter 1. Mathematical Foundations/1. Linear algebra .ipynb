{
 "cells": [
  {
   "cell_type": "markdown",
   "id": "429a0156",
   "metadata": {},
   "source": [
    "# **Linear algebra**"
   ]
  },
  {
   "cell_type": "markdown",
   "id": "56fa298f",
   "metadata": {},
   "source": [
    "## **1. Vector**\n",
    "* **Vector**: In the context of machine learning, a vector is an ordered list of numbers that can be thought of as a point in a multi-dimensional space. It's a fundamental way to represent data points or features. For example:\n",
    "  * a vector in a two-dimensional plane can be defined as $v = [x_1, x_2] \\in \\R^2$\n",
    "  * a vector $v = [x_1, x_2, ..., x_n] \\in \\R^n$ represents a point in an n-dimensional space.\n",
    "\n",
    "* **Vector norm**:  A norm is a function that assigns a strictly positive length or size to each vector in a vector space. It's a measure of the vector's magnitude.\n",
    "    * **L1 Norm**: The L1 norm, denoted as $||x||_1$\n",
    " , is the sum of the absolute values of its components. It's often called the \"Manhattan distance\" because it represents the distance between two points as if you were traveling along a grid of streets.\n",
    "    $$\n",
    "    ||x||_1 = \\sum_{i=1}^{n} |{x_i}|\n",
    "    $$\n",
    "   * **L2 Norm**: The L2 norm, denoted as $||x||_2$, is the most common way to measure a vector's magnitude. It corresponds to the straight-line distance from the origin to the point represented by the vector (Euclidean distance).\n",
    "    $$\n",
    "    ||x||_2 = \\sqrt{\\sum_{i=1}^{n} {x_i}^2}\n",
    "    $$"
   ]
  },
  {
   "cell_type": "code",
   "execution_count": 112,
   "id": "de4f9e58",
   "metadata": {},
   "outputs": [
    {
     "name": "stdout",
     "output_type": "stream",
     "text": [
      "L1 Norm (Manhattan Distance): 3.61\n",
      "L2 Norm (Euclidean Distance): 5.00\n"
     ]
    },
    {
     "data": {
      "image/png": "[encoded data removed]",
      "text/plain": [
       "<Figure size 800x400 with 2 Axes>"
      ]
     },
     "metadata": {},
     "output_type": "display_data"
    }
   ],
   "source": [
    "import numpy as np\n",
    "import matplotlib.pyplot as plt\n",
    "\n",
    "twoD_vector = np.array([2, 3])\n",
    "\n",
    "print(f\"L1 Norm (Manhattan Distance): {np.linalg.norm(twoD_vector, ord=2):.2f}\")\n",
    "print(f\"L2 Norm (Euclidean Distance): {np.linalg.norm(twoD_vector, ord=1):.2f}\")\n",
    "\n",
    "fig, axes = plt.subplots(1, 2, figsize=(8, 4))\n",
    "\n",
    "axes[0].plot(twoD_vector[0], twoD_vector[1], \"go\", markersize=12)\n",
    "axes[0].set_xlim(-1, 3)\n",
    "axes[0].set_ylim(-2, 4)\n",
    "axes[0].grid(True, alpha=0.3)\n",
    "axes[0].set_xlabel('X')\n",
    "axes[0].set_ylabel('Y')\n",
    "\n",
    "axes[1].arrow(0, 0, twoD_vector[0], twoD_vector[1],\n",
    "              fc='blue', ec='blue', linewidth=2,\n",
    "              label='L2 vector')\n",
    "axes[1].plot([0, twoD_vector[0]], [0, 0], \"r--\", label='L1 path (x-axis)')\n",
    "axes[1].plot([twoD_vector[0], twoD_vector[0]], [0, twoD_vector[1]], \"r--\", label='L1 path (y-axis)')\n",
    "axes[1].set_xlim(-1, 3)\n",
    "axes[1].set_ylim(-2, 4)\n",
    "axes[1].grid(True, alpha=0.3)\n",
    "axes[1].plot(twoD_vector[0], twoD_vector[1], \"go\", markersize=12)\n",
    "axes[1].set_xlabel('X')\n",
    "axes[1].set_ylabel('Y')\n",
    "axes[1].legend(loc='lower right')\n",
    "\n",
    "plt.tight_layout()\n",
    "plt.show()"
   ]
  },
  {
   "cell_type": "markdown",
   "id": "9ecb313f",
   "metadata": {},
   "source": [
    "* **Distance Metrics**: Given two vectors $u = (u_1, u_2, ..., u_n)$ and $v = (v_1, v_2, ..., v_n)$ in $\\R^n$, a distance metric is a function $d(u, v)$ that measures how different they are.\n",
    "  * **L1 Distance (Manhattan Distance)**\n",
    "    $$\n",
    "    d_1(u, v) = \\sum_{i=1}^{n}|u_i - v_i|\n",
    "    $$\n",
    "  * **L2 Distance (Euclidean Distance)**\n",
    "    $$\n",
    "    d_2(u, v) = \\sqrt{\\sum_{i=1}^{n}(u_i - v_i)^2}\n",
    "    $$\n",
    "  * **Cosine Distance (Manhattan Distance)**\n",
    "    $$\n",
    "    cos(u, v) = \\frac{u \\cdot v}{||u||_2 ||v||_2}\n",
    "    $$"
   ]
  },
  {
   "cell_type": "markdown",
   "id": "841cf58d",
   "metadata": {},
   "source": [
    "## **2. Matrix**\n",
    "\n",
    "* **Matrix**: A matrix is a rectangular array or table of numbers, symbols, or expressions, arranged in rows and columns. In machine learning, matrices are used to represent datasets, transformations, and systems of equations. An $m×n$ matrix has $m$ rows and $n$ columns.\n",
    "\n",
    "* **Matrix Operations**: \n",
    "  * **Addition**: Two matrices can be added if they have the same dimensions. Addition is performed element-wise. If $C = A + B, \\enspace then \\enspace C_{ij} = A_{ij} + B_{ij}$.\n",
    "  * **Multiplication**:\n",
    "    * **Scalar Multiplication**: Multiplying a matrix by a scalar involves multiplying every element of the matrix by that scalar.\n",
    "    * **Matrix-Matrix Multiplication**: The product of an $m×n$ matrix $A$ and an $n×p$ matrix $B$ is an $m×p$ matrix $C$. The element $C_{ij}$ is the dot product of the $i-th$ row of $A$ and the $j-th$ column of $B$.\n",
    "    * **Transpose**: The transpose of a matrix $A$, denoted as $A^T$, is obtained by swapping the rows and columns. The element $(A^T)_{ij}$ becomes $A_{ij}$.\n",
    "    * **Inverse**: The inverse of a square matrix $A$, denoted as $A^−1$, is the matrix such that when multiplied by $A$, it yields the identity matrix $I$.\n",
    "    $$\n",
    "    AA^-1 = A^{-1}A = I\n",
    "    $$\n",
    "    A matrix must be square and non-singular (its determinant is non-zero) to have an inverse."
   ]
  },
  {
   "cell_type": "code",
   "execution_count": null,
   "id": "608ec268",
   "metadata": {},
   "outputs": [
    {
     "name": "stdout",
     "output_type": "stream",
     "text": [
      "A:\n",
      " [[1 2]\n",
      " [3 4]]\n",
      "\n",
      "B:\n",
      " [[2 0]\n",
      " [1 3]]\n",
      "\n",
      "A + B:\n",
      " [[3 2]\n",
      " [4 7]]\n",
      "\n",
      "2 * A:\n",
      " [[2 4]\n",
      " [6 8]]\n",
      "\n",
      "A @ B:\n",
      " [[ 4  6]\n",
      " [10 12]]\n",
      "\n",
      "A^T:\n",
      " [[1 3]\n",
      " [2 4]]\n",
      "\n",
      "A^-1:\n",
      " [[-2.   1. ]\n",
      " [ 1.5 -0.5]]\n"
     ]
    },
    {
     "data": {
      "image/png": "[encoded data removed]",
      "text/plain": [
       "<Figure size 800x400 with 2 Axes>"
      ]
     },
     "metadata": {},
     "output_type": "display_data"
    }
   ],
   "source": [
    "import numpy as np\n",
    "import matplotlib.pyplot as plt\n",
    "\n",
    "A = np.array([[1, 2],\n",
    "              [3, 4]])\n",
    "\n",
    "B = np.array([[2, 0],\n",
    "              [1, 3]])\n",
    "\n",
    "# Addition\n",
    "C_add = A + B\n",
    "\n",
    "# Scalar multiplication\n",
    "C_scalar = 2 * A\n",
    "\n",
    "# Matrix multiplication\n",
    "C_mul = A @ B   # or np.dot(A, B)\n",
    "\n",
    "# Transpose\n",
    "A_T = A.T\n",
    "\n",
    "# Inverse\n",
    "A_inv = np.linalg.inv(A)\n",
    "\n",
    "print(\"A:\\n\", A)\n",
    "print(\"\\nB:\\n\", B)\n",
    "print(\"\\nA + B:\\n\", C_add)\n",
    "print(\"\\n2 * A:\\n\", C_scalar)\n",
    "print(\"\\nA @ B:\\n\", C_mul)\n",
    "print(\"\\nA^T:\\n\", A_T)\n",
    "print(\"\\nA^-1:\\n\", A_inv)\n",
    "\n",
    "fig, axes = plt.subplots(1, 2, figsize=(8, 4))\n",
    "\n",
    "axes[0].imshow(A, cmap=\"Blues\", interpolation=\"nearest\")\n",
    "axes[0].set_title(\"Matrix A\")\n",
    "for i in range(A.shape[0]):\n",
    "    for j in range(A.shape[1]):\n",
    "        axes[0].text(j, i, A[i, j], ha=\"center\", va=\"center\", color=\"black\")\n",
    "\n",
    "axes[1].imshow(A_T, cmap=\"Greens\", interpolation=\"nearest\")\n",
    "axes[1].set_title(\"Transpose of A\")\n",
    "for i in range(A_T.shape[0]):\n",
    "    for j in range(A_T.shape[1]):\n",
    "        axes[1].text(j, i, A_T[i, j], ha=\"center\", va=\"center\", color=\"black\")\n",
    "\n",
    "plt.tight_layout()\n",
    "plt.show()\n"
   ]
  },
  {
   "cell_type": "markdown",
   "id": "6f24188a",
   "metadata": {},
   "source": [
    "## **3. Rank & Determinant**\n",
    "\n",
    "* **Rank**: The rank of a matrix is the maximum number of linearly independent column (or row) vectors in the matrix. It represents the dimension of the vector space spanned by its columns. $A$ matrix is \"full rank\" if its rank is the maximum possible for its dimensions; otherwise, it is \"rank deficient.\"\n",
    "* **Determinant**: The determinant is a scalar value that can be computed from the elements of a square matrix. It is denoted as $det(A)$ or $∣A∣$. Geometrically, the absolute value of the determinant represents the scaling factor of the transformation described by the matrix.\n",
    "  * If $det(A) = 0$, the matrix is singular, meaning it has no inverse. This implies the transformation squishes space into a lower dimension.\n",
    "  * If $det(A) \\ne 0$, the matrix is non-singular and invertible.\n",
    "* **System of Linear Equations**: A system of linear equations can be represented in matrix form as $Ax=b$, where $A$ is the matrix of coefficients, $x$ is the vector of unknown variables, and $b$ is the vector of constants.\n",
    "  * If $det(A) \\ne 0$, the system has a unique solution given by $x=A^-1b$ \n",
    "  * If $det(A)=0$, the system may have no solution or infinitely many solutions."
   ]
  },
  {
   "cell_type": "markdown",
   "id": "dae65eea",
   "metadata": {},
   "source": [
    "## **4. Eigenvalues & Eigenvectors**"
   ]
  },
  {
   "cell_type": "markdown",
   "id": "eb9a6189",
   "metadata": {},
   "source": [
    "## **5. Matrix Decomposition**"
   ]
  }
 ],
 "metadata": {
  "kernelspec": {
   "display_name": ".venv",
   "language": "python",
   "name": "python3"
  },
  "language_info": {
   "codemirror_mode": {
    "name": "ipython",
    "version": 3
   },
   "file_extension": ".py",
   "mimetype": "text/x-python",
   "name": "python",
   "nbconvert_exporter": "python",
   "pygments_lexer": "ipython3",
   "version": "3.12.3"
  }
 },
 "nbformat": 4,
 "nbformat_minor": 5
}
