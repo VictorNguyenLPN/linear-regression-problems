{
 "cells": [
  {
   "cell_type": "markdown",
   "id": "7c994f65",
   "metadata": {},
   "source": [
    "# **Predict weight from height - Linear Regression (1 feature)**\n",
    "\n",
    "* Goal: Build a simple linear regression model to predict weight $(y)$ from height $(x)$.\n",
    "* Dataset: \n",
    "* Author's contact: quanghuy71847@gmail.com "
   ]
  },
  {
   "cell_type": "markdown",
   "id": "5155ef43",
   "metadata": {},
   "source": []
  },
  {
   "cell_type": "markdown",
   "id": "d0bd2e50",
   "metadata": {},
   "source": [
    "## **1. Assumptions**\n",
    "* The fact is that we cannot predict a person's `weight` through their `height`, because `weight` depends on many other factors. \n",
    "* However, base on the notebook purpose is using **Linear Regression** model to solve the problem, we assume that it can be predicted."
   ]
  },
  {
   "cell_type": "markdown",
   "id": "c16752db",
   "metadata": {},
   "source": [
    "## **2. Install library**"
   ]
  },
  {
   "cell_type": "code",
   "execution_count": 2,
   "id": "988c60d5",
   "metadata": {},
   "outputs": [],
   "source": [
    "import numpy as np\n",
    "import pandas as pd\n",
    "import matplotlib.pyplot as plt\n",
    "from __future__ import division, print_function, unicode_literals"
   ]
  },
  {
   "cell_type": "markdown",
   "id": "c47d85ef",
   "metadata": {},
   "source": [
    "## **3. Prepare data**"
   ]
  },
  {
   "cell_type": "code",
   "execution_count": 3,
   "id": "c0e249fd",
   "metadata": {},
   "outputs": [],
   "source": [
    "df = pd.read_csv(\"./data.csv\")"
   ]
  },
  {
   "cell_type": "markdown",
   "id": "d6aebcde",
   "metadata": {},
   "source": [
    "Given a dataset about human's **height (cm)** and **weight (kg)** of 15 people"
   ]
  },
  {
   "cell_type": "code",
   "execution_count": 4,
   "id": "3b4a87b6",
   "metadata": {},
   "outputs": [
    {
     "data": {
      "text/html": [
       "<div>\n",
       "<style scoped>\n",
       "    .dataframe tbody tr th:only-of-type {\n",
       "        vertical-align: middle;\n",
       "    }\n",
       "\n",
       "    .dataframe tbody tr th {\n",
       "        vertical-align: top;\n",
       "    }\n",
       "\n",
       "    .dataframe thead th {\n",
       "        text-align: right;\n",
       "    }\n",
       "</style>\n",
       "<table border=\"1\" class=\"dataframe\">\n",
       "  <thead>\n",
       "    <tr style=\"text-align: right;\">\n",
       "      <th></th>\n",
       "      <th>height</th>\n",
       "      <th>weight</th>\n",
       "    </tr>\n",
       "  </thead>\n",
       "  <tbody>\n",
       "    <tr>\n",
       "      <th>0</th>\n",
       "      <td>147.0</td>\n",
       "      <td>49.0</td>\n",
       "    </tr>\n",
       "    <tr>\n",
       "      <th>1</th>\n",
       "      <td>148.1</td>\n",
       "      <td>49.5</td>\n",
       "    </tr>\n",
       "    <tr>\n",
       "      <th>2</th>\n",
       "      <td>150.0</td>\n",
       "      <td>50.0</td>\n",
       "    </tr>\n",
       "    <tr>\n",
       "      <th>3</th>\n",
       "      <td>152.5</td>\n",
       "      <td>50.8</td>\n",
       "    </tr>\n",
       "    <tr>\n",
       "      <th>4</th>\n",
       "      <td>153.0</td>\n",
       "      <td>51.0</td>\n",
       "    </tr>\n",
       "    <tr>\n",
       "      <th>5</th>\n",
       "      <td>155.0</td>\n",
       "      <td>52.0</td>\n",
       "    </tr>\n",
       "    <tr>\n",
       "      <th>6</th>\n",
       "      <td>158.0</td>\n",
       "      <td>54.0</td>\n",
       "    </tr>\n",
       "    <tr>\n",
       "      <th>7</th>\n",
       "      <td>160.0</td>\n",
       "      <td>56.0</td>\n",
       "    </tr>\n",
       "    <tr>\n",
       "      <th>8</th>\n",
       "      <td>161.0</td>\n",
       "      <td>56.5</td>\n",
       "    </tr>\n",
       "    <tr>\n",
       "      <th>9</th>\n",
       "      <td>163.0</td>\n",
       "      <td>58.0</td>\n",
       "    </tr>\n",
       "    <tr>\n",
       "      <th>10</th>\n",
       "      <td>165.0</td>\n",
       "      <td>59.0</td>\n",
       "    </tr>\n",
       "    <tr>\n",
       "      <th>11</th>\n",
       "      <td>166.0</td>\n",
       "      <td>59.3</td>\n",
       "    </tr>\n",
       "    <tr>\n",
       "      <th>12</th>\n",
       "      <td>168.0</td>\n",
       "      <td>60.0</td>\n",
       "    </tr>\n",
       "    <tr>\n",
       "      <th>13</th>\n",
       "      <td>170.0</td>\n",
       "      <td>72.0</td>\n",
       "    </tr>\n",
       "    <tr>\n",
       "      <th>14</th>\n",
       "      <td>173.0</td>\n",
       "      <td>63.0</td>\n",
       "    </tr>\n",
       "    <tr>\n",
       "      <th>15</th>\n",
       "      <td>175.0</td>\n",
       "      <td>64.0</td>\n",
       "    </tr>\n",
       "    <tr>\n",
       "      <th>16</th>\n",
       "      <td>178.0</td>\n",
       "      <td>66.0</td>\n",
       "    </tr>\n",
       "    <tr>\n",
       "      <th>17</th>\n",
       "      <td>180.0</td>\n",
       "      <td>67.0</td>\n",
       "    </tr>\n",
       "    <tr>\n",
       "      <th>18</th>\n",
       "      <td>182.3</td>\n",
       "      <td>67.7</td>\n",
       "    </tr>\n",
       "    <tr>\n",
       "      <th>19</th>\n",
       "      <td>183.0</td>\n",
       "      <td>68.0</td>\n",
       "    </tr>\n",
       "  </tbody>\n",
       "</table>\n",
       "</div>"
      ],
      "text/plain": [
       "    height  weight\n",
       "0    147.0    49.0\n",
       "1    148.1    49.5\n",
       "2    150.0    50.0\n",
       "3    152.5    50.8\n",
       "4    153.0    51.0\n",
       "5    155.0    52.0\n",
       "6    158.0    54.0\n",
       "7    160.0    56.0\n",
       "8    161.0    56.5\n",
       "9    163.0    58.0\n",
       "10   165.0    59.0\n",
       "11   166.0    59.3\n",
       "12   168.0    60.0\n",
       "13   170.0    72.0\n",
       "14   173.0    63.0\n",
       "15   175.0    64.0\n",
       "16   178.0    66.0\n",
       "17   180.0    67.0\n",
       "18   182.3    67.7\n",
       "19   183.0    68.0"
      ]
     },
     "execution_count": 4,
     "metadata": {},
     "output_type": "execute_result"
    }
   ],
   "source": [
    "df"
   ]
  },
  {
   "cell_type": "markdown",
   "id": "f5c5380d",
   "metadata": {},
   "source": [
    "* To check the accuracy of the found model, we will keep the 155 cm and 160 cm data points for testing, the remaining dataset are used to train the model."
   ]
  },
  {
   "cell_type": "code",
   "execution_count": 5,
   "id": "42ddf8a1",
   "metadata": {},
   "outputs": [],
   "source": [
    "test_df = df[df['height'].isin([155, 160])]\n",
    "train_df = df[~df['height'].isin([155, 160])]"
   ]
  },
  {
   "cell_type": "markdown",
   "id": "6c118674",
   "metadata": {},
   "source": [
    "## **4. Data visualization**"
   ]
  },
  {
   "cell_type": "code",
   "execution_count": 6,
   "id": "b88beac3",
   "metadata": {},
   "outputs": [
    {
     "name": "stdout",
     "output_type": "stream",
     "text": [
      "Shape (row, col): (18, 1)\n"
     ]
    },
    {
     "data": {
      "text/plain": [
       "array([[147. ],\n",
       "       [148.1],\n",
       "       [150. ],\n",
       "       [152.5],\n",
       "       [153. ],\n",
       "       [158. ],\n",
       "       [161. ],\n",
       "       [163. ],\n",
       "       [165. ],\n",
       "       [166. ],\n",
       "       [168. ],\n",
       "       [170. ],\n",
       "       [173. ],\n",
       "       [175. ],\n",
       "       [178. ],\n",
       "       [180. ],\n",
       "       [182.3],\n",
       "       [183. ]])"
      ]
     },
     "execution_count": 6,
     "metadata": {},
     "output_type": "execute_result"
    }
   ],
   "source": [
    "X = train_df[['height']].values\n",
    "print(f\"Shape (row, col): {X.shape}\")\n",
    "X"
   ]
  },
  {
   "cell_type": "code",
   "execution_count": 7,
   "id": "ad6378af",
   "metadata": {},
   "outputs": [
    {
     "name": "stdout",
     "output_type": "stream",
     "text": [
      "Shape (row, col): (18, 1)\n"
     ]
    },
    {
     "data": {
      "text/plain": [
       "array([[49. ],\n",
       "       [49.5],\n",
       "       [50. ],\n",
       "       [50.8],\n",
       "       [51. ],\n",
       "       [54. ],\n",
       "       [56.5],\n",
       "       [58. ],\n",
       "       [59. ],\n",
       "       [59.3],\n",
       "       [60. ],\n",
       "       [72. ],\n",
       "       [63. ],\n",
       "       [64. ],\n",
       "       [66. ],\n",
       "       [67. ],\n",
       "       [67.7],\n",
       "       [68. ]])"
      ]
     },
     "execution_count": 7,
     "metadata": {},
     "output_type": "execute_result"
    }
   ],
   "source": [
    "Y = train_df[['weight']].values\n",
    "print(f\"Shape (row, col): {Y.shape}\")\n",
    "Y"
   ]
  },
  {
   "cell_type": "code",
   "execution_count": 11,
   "id": "cd04e0e9",
   "metadata": {},
   "outputs": [
    {
     "data": {
      "image/png": "[encoded data removed]",
      "text/plain": [
       "<Figure size 640x480 with 1 Axes>"
      ]
     },
     "metadata": {},
     "output_type": "display_data"
    }
   ],
   "source": [
    "plt.plot(X, Y, 'ro')\n",
    "# plt.axis([140, 190, 40, 80])\n",
    "plt.xlabel('Height (cm)')\n",
    "plt.ylabel('Weight (kg)')\n",
    "plt.show()"
   ]
  },
  {
   "cell_type": "markdown",
   "id": "da23d074",
   "metadata": {},
   "source": [
    "## **5. Solution**"
   ]
  },
  {
   "cell_type": "markdown",
   "id": "f3f3c900",
   "metadata": {},
   "source": [
    "From this graph, we can see that the data is arranged almost in a straight line (except the `outlier` $x = 170, y = 72$).\n",
    "\n",
    "So the **Linear Regression** most likely to give a good results with this `hypothesis`:\n",
    "$$\n",
    "\\hat{y} = \\theta_1 \\cdot x + \\theta_0\n",
    "$$\n",
    "\n",
    "or, in words: \n",
    "$$\n",
    "\\text{(predicted weight)} = \\theta_1 \\cdot \\text{(given height)} + \\theta_0\n",
    "$$\n",
    "\n",
    "After defining the `hypothesis`, we need to initialize a random `theta` and calculate `predicted weight`.\n",
    "$$\n",
    "with \\quad \\theta_1 = 1, \\, \\theta_0 = 1 \\Longrightarrow \\boxed{\\hat{y} = x + 1} \\quad \\text{a simple model}\n",
    "$$\n",
    "\n",
    "Apply the found model and compare predicted vs actual values:\n",
    "\n",
    "| Height $(x)$ | Actual Weight $(y)$ | Predicted $(\\hat{y})$ | Error $(y - \\hat{y})$ | Squared Error |\n",
    "|--------------|---------------------|-----------------------|-----------------------|---------------|\n",
    "| 147          | 49                  | 148                   | -99                   | 9801          |\n",
    "| 150          | 50                  | 151                   | -101                  | 10201         |\n",
    "| 153          | 51                  | 154                   | -103                  | 10609         |\n",
    "| ...          | ..                  | ...                   |  ...                  | ...           |"
   ]
  },
  {
   "cell_type": "code",
   "execution_count": 24,
   "id": "841a1d68",
   "metadata": {},
   "outputs": [
    {
     "data": {
      "text/html": [
       "<div>\n",
       "<style scoped>\n",
       "    .dataframe tbody tr th:only-of-type {\n",
       "        vertical-align: middle;\n",
       "    }\n",
       "\n",
       "    .dataframe tbody tr th {\n",
       "        vertical-align: top;\n",
       "    }\n",
       "\n",
       "    .dataframe thead th {\n",
       "        text-align: right;\n",
       "    }\n",
       "</style>\n",
       "<table border=\"1\" class=\"dataframe\">\n",
       "  <thead>\n",
       "    <tr style=\"text-align: right;\">\n",
       "      <th></th>\n",
       "      <th>height</th>\n",
       "      <th>weight</th>\n",
       "      <th>predicted</th>\n",
       "      <th>error</th>\n",
       "      <th>square_error</th>\n",
       "    </tr>\n",
       "  </thead>\n",
       "  <tbody>\n",
       "    <tr>\n",
       "      <th>0</th>\n",
       "      <td>147</td>\n",
       "      <td>49</td>\n",
       "      <td>148</td>\n",
       "      <td>-99</td>\n",
       "      <td>9801</td>\n",
       "    </tr>\n",
       "    <tr>\n",
       "      <th>1</th>\n",
       "      <td>150</td>\n",
       "      <td>50</td>\n",
       "      <td>151</td>\n",
       "      <td>-101</td>\n",
       "      <td>10201</td>\n",
       "    </tr>\n",
       "    <tr>\n",
       "      <th>2</th>\n",
       "      <td>153</td>\n",
       "      <td>51</td>\n",
       "      <td>154</td>\n",
       "      <td>-103</td>\n",
       "      <td>10609</td>\n",
       "    </tr>\n",
       "    <tr>\n",
       "      <th>3</th>\n",
       "      <td>155</td>\n",
       "      <td>52</td>\n",
       "      <td>156</td>\n",
       "      <td>-104</td>\n",
       "      <td>10816</td>\n",
       "    </tr>\n",
       "    <tr>\n",
       "      <th>4</th>\n",
       "      <td>158</td>\n",
       "      <td>54</td>\n",
       "      <td>159</td>\n",
       "      <td>-105</td>\n",
       "      <td>11025</td>\n",
       "    </tr>\n",
       "    <tr>\n",
       "      <th>5</th>\n",
       "      <td>160</td>\n",
       "      <td>56</td>\n",
       "      <td>161</td>\n",
       "      <td>-105</td>\n",
       "      <td>11025</td>\n",
       "    </tr>\n",
       "    <tr>\n",
       "      <th>6</th>\n",
       "      <td>163</td>\n",
       "      <td>58</td>\n",
       "      <td>164</td>\n",
       "      <td>-106</td>\n",
       "      <td>11236</td>\n",
       "    </tr>\n",
       "    <tr>\n",
       "      <th>7</th>\n",
       "      <td>165</td>\n",
       "      <td>59</td>\n",
       "      <td>166</td>\n",
       "      <td>-107</td>\n",
       "      <td>11449</td>\n",
       "    </tr>\n",
       "    <tr>\n",
       "      <th>8</th>\n",
       "      <td>168</td>\n",
       "      <td>60</td>\n",
       "      <td>169</td>\n",
       "      <td>-109</td>\n",
       "      <td>11881</td>\n",
       "    </tr>\n",
       "    <tr>\n",
       "      <th>9</th>\n",
       "      <td>170</td>\n",
       "      <td>72</td>\n",
       "      <td>171</td>\n",
       "      <td>-99</td>\n",
       "      <td>9801</td>\n",
       "    </tr>\n",
       "    <tr>\n",
       "      <th>10</th>\n",
       "      <td>173</td>\n",
       "      <td>63</td>\n",
       "      <td>174</td>\n",
       "      <td>-111</td>\n",
       "      <td>12321</td>\n",
       "    </tr>\n",
       "    <tr>\n",
       "      <th>11</th>\n",
       "      <td>175</td>\n",
       "      <td>64</td>\n",
       "      <td>176</td>\n",
       "      <td>-112</td>\n",
       "      <td>12544</td>\n",
       "    </tr>\n",
       "    <tr>\n",
       "      <th>12</th>\n",
       "      <td>178</td>\n",
       "      <td>66</td>\n",
       "      <td>179</td>\n",
       "      <td>-113</td>\n",
       "      <td>12769</td>\n",
       "    </tr>\n",
       "    <tr>\n",
       "      <th>13</th>\n",
       "      <td>180</td>\n",
       "      <td>67</td>\n",
       "      <td>181</td>\n",
       "      <td>-114</td>\n",
       "      <td>12996</td>\n",
       "    </tr>\n",
       "    <tr>\n",
       "      <th>14</th>\n",
       "      <td>183</td>\n",
       "      <td>68</td>\n",
       "      <td>184</td>\n",
       "      <td>-116</td>\n",
       "      <td>13456</td>\n",
       "    </tr>\n",
       "  </tbody>\n",
       "</table>\n",
       "</div>"
      ],
      "text/plain": [
       "    height  weight  predicted  error  square_error\n",
       "0      147      49        148    -99          9801\n",
       "1      150      50        151   -101         10201\n",
       "2      153      51        154   -103         10609\n",
       "3      155      52        156   -104         10816\n",
       "4      158      54        159   -105         11025\n",
       "5      160      56        161   -105         11025\n",
       "6      163      58        164   -106         11236\n",
       "7      165      59        166   -107         11449\n",
       "8      168      60        169   -109         11881\n",
       "9      170      72        171    -99          9801\n",
       "10     173      63        174   -111         12321\n",
       "11     175      64        176   -112         12544\n",
       "12     178      66        179   -113         12769\n",
       "13     180      67        181   -114         12996\n",
       "14     183      68        184   -116         13456"
      ]
     },
     "execution_count": 24,
     "metadata": {},
     "output_type": "execute_result"
    }
   ],
   "source": [
    "df['predicted'] = df['height'] + 1\n",
    "df['error'] = df['weight'] - df['predicted']\n",
    "df['square_error'] = df['error'] * df['error']\n",
    "df"
   ]
  },
  {
   "cell_type": "markdown",
   "id": "3b8f521c",
   "metadata": {},
   "source": [
    "Finally, the **MSE (Mean Squared Error)** is:"
   ]
  },
  {
   "cell_type": "code",
   "execution_count": 25,
   "id": "2a0e8784",
   "metadata": {},
   "outputs": [
    {
     "name": "stdout",
     "output_type": "stream",
     "text": [
      "MSE =  11462.0\n"
     ]
    }
   ],
   "source": [
    "mse = df['square_error'].mean()\n",
    "print(\"MSE = \", mse)"
   ]
  },
  {
   "cell_type": "markdown",
   "id": "d67c4750",
   "metadata": {},
   "source": [
    "We can easily realize that $MSE = 11462.0$ (when $\\theta_0 = 1, \\theta_1 = 1$) is really large.  \n",
    "Therefore, our goal is to find $\\theta_1, \\theta_0$ that **minimizes** the loss function $MSE$.  \n",
    "\n",
    "There are two main approaches:\n",
    "\n",
    "1. **Analytical solution: Normal Equation**  \n",
    "   By setting the derivative of the loss function to zero, we obtain a closed-form solution:  \n",
    "\n",
    "   $$\n",
    "   \\theta = (X^\\top X)^{-1} X^\\top y\n",
    "   $$\n",
    "\n",
    "   where $X$ is the design matrix with a column of ones (for bias term $\\theta_0$) and the feature values.  \n",
    "\n",
    "   With $m$ samples, matrix $X \\in \\R^{m \\times n}$, parament vector $\\theta \\in \\R^n$ and label vector $y \\in \\R^m$, loss function we be defined as:\n",
    "\n",
    "   $$\n",
    "   J(\\theta) = \\frac{1}{2m} \\sum_{i=1}^{m}\n",
    "   $$\n",
    "\n",
    "\n",
    "2. **Iterative optimization: Gradient Descent**  \n",
    "   Instead of solving directly, we can update parameters step by step using the gradient of the loss function:  \n",
    "\n",
    "   $$\n",
    "   \\theta_j := \\theta_j - \\alpha \\frac{\\partial J(\\theta)}{\\partial \\theta_j}\n",
    "   $$\n",
    "\n",
    "   where $\\alpha$ is the **learning rate**. This method is useful when the number of features is very large or the normal equation becomes computationally expensive.  "
   ]
  }
 ],
 "metadata": {
  "kernelspec": {
   "display_name": ".venv",
   "language": "python",
   "name": "python3"
  },
  "language_info": {
   "codemirror_mode": {
    "name": "ipython",
    "version": 3
   },
   "file_extension": ".py",
   "mimetype": "text/x-python",
   "name": "python",
   "nbconvert_exporter": "python",
   "pygments_lexer": "ipython3",
   "version": "3.12.3"
  }
 },
 "nbformat": 4,
 "nbformat_minor": 5
}
