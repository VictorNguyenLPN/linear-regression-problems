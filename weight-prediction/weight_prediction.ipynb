{
 "cells": [
  {
   "cell_type": "markdown",
   "id": "7c994f65",
   "metadata": {},
   "source": [
    "# Weight prediction"
   ]
  },
  {
   "cell_type": "markdown",
   "id": "76b8190b",
   "metadata": {},
   "source": [
    "## 1. Problem\n",
    "\n",
    "* The fact is that we cannot predict a person's `weight` through their `height`, because `weight` depends on many other factors. \n",
    "* However, base on the notebook purpose is using **Linear Regression**, we assume that it can be predicted."
   ]
  },
  {
   "cell_type": "code",
   "execution_count": 55,
   "id": "988c60d5",
   "metadata": {},
   "outputs": [],
   "source": [
    "import pandas as pd\n",
    "from __future__ import division, print_function, unicode_literals\n",
    "import numpy as np \n",
    "import matplotlib.pyplot as plt"
   ]
  },
  {
   "cell_type": "code",
   "execution_count": 56,
   "id": "c0e249fd",
   "metadata": {},
   "outputs": [],
   "source": [
    "df = pd.read_csv(\"./data.csv\")"
   ]
  },
  {
   "cell_type": "markdown",
   "id": "d6aebcde",
   "metadata": {},
   "source": [
    "Given a dataset about human's **height (cm)** and **weight (kg)** of 15 people"
   ]
  },
  {
   "cell_type": "code",
   "execution_count": 57,
   "id": "3b4a87b6",
   "metadata": {},
   "outputs": [
    {
     "data": {
      "text/html": [
       "<div>\n",
       "<style scoped>\n",
       "    .dataframe tbody tr th:only-of-type {\n",
       "        vertical-align: middle;\n",
       "    }\n",
       "\n",
       "    .dataframe tbody tr th {\n",
       "        vertical-align: top;\n",
       "    }\n",
       "\n",
       "    .dataframe thead th {\n",
       "        text-align: right;\n",
       "    }\n",
       "</style>\n",
       "<table border=\"1\" class=\"dataframe\">\n",
       "  <thead>\n",
       "    <tr style=\"text-align: right;\">\n",
       "      <th></th>\n",
       "      <th>height</th>\n",
       "      <th>weight</th>\n",
       "    </tr>\n",
       "  </thead>\n",
       "  <tbody>\n",
       "    <tr>\n",
       "      <th>0</th>\n",
       "      <td>147</td>\n",
       "      <td>49</td>\n",
       "    </tr>\n",
       "    <tr>\n",
       "      <th>1</th>\n",
       "      <td>150</td>\n",
       "      <td>50</td>\n",
       "    </tr>\n",
       "    <tr>\n",
       "      <th>2</th>\n",
       "      <td>153</td>\n",
       "      <td>51</td>\n",
       "    </tr>\n",
       "    <tr>\n",
       "      <th>3</th>\n",
       "      <td>155</td>\n",
       "      <td>52</td>\n",
       "    </tr>\n",
       "    <tr>\n",
       "      <th>4</th>\n",
       "      <td>158</td>\n",
       "      <td>54</td>\n",
       "    </tr>\n",
       "    <tr>\n",
       "      <th>5</th>\n",
       "      <td>160</td>\n",
       "      <td>56</td>\n",
       "    </tr>\n",
       "    <tr>\n",
       "      <th>6</th>\n",
       "      <td>163</td>\n",
       "      <td>58</td>\n",
       "    </tr>\n",
       "    <tr>\n",
       "      <th>7</th>\n",
       "      <td>165</td>\n",
       "      <td>59</td>\n",
       "    </tr>\n",
       "    <tr>\n",
       "      <th>8</th>\n",
       "      <td>168</td>\n",
       "      <td>60</td>\n",
       "    </tr>\n",
       "    <tr>\n",
       "      <th>9</th>\n",
       "      <td>170</td>\n",
       "      <td>72</td>\n",
       "    </tr>\n",
       "    <tr>\n",
       "      <th>10</th>\n",
       "      <td>173</td>\n",
       "      <td>63</td>\n",
       "    </tr>\n",
       "    <tr>\n",
       "      <th>11</th>\n",
       "      <td>175</td>\n",
       "      <td>64</td>\n",
       "    </tr>\n",
       "    <tr>\n",
       "      <th>12</th>\n",
       "      <td>178</td>\n",
       "      <td>66</td>\n",
       "    </tr>\n",
       "    <tr>\n",
       "      <th>13</th>\n",
       "      <td>180</td>\n",
       "      <td>67</td>\n",
       "    </tr>\n",
       "    <tr>\n",
       "      <th>14</th>\n",
       "      <td>183</td>\n",
       "      <td>68</td>\n",
       "    </tr>\n",
       "  </tbody>\n",
       "</table>\n",
       "</div>"
      ],
      "text/plain": [
       "    height  weight\n",
       "0      147      49\n",
       "1      150      50\n",
       "2      153      51\n",
       "3      155      52\n",
       "4      158      54\n",
       "5      160      56\n",
       "6      163      58\n",
       "7      165      59\n",
       "8      168      60\n",
       "9      170      72\n",
       "10     173      63\n",
       "11     175      64\n",
       "12     178      66\n",
       "13     180      67\n",
       "14     183      68"
      ]
     },
     "execution_count": 57,
     "metadata": {},
     "output_type": "execute_result"
    }
   ],
   "source": [
    "df"
   ]
  },
  {
   "cell_type": "markdown",
   "id": "f5c5380d",
   "metadata": {},
   "source": [
    "* We can realize that `weight` is proportional to `height` (the taller, the heavier), so we can user **Linear Regression** model for this prediction. \n",
    "* To check the accuracy of the found model, we will keep the 155 cm and 160 cm data points for testing, the remaining dataset are used to train the model."
   ]
  },
  {
   "cell_type": "code",
   "execution_count": null,
   "id": "42ddf8a1",
   "metadata": {},
   "outputs": [],
   "source": [
    "test_df = df[df['height'].isin([155, 160])]\n",
    "train_df = df[~df['height'].isin([155, 160])]"
   ]
  },
  {
   "cell_type": "markdown",
   "id": "6c118674",
   "metadata": {},
   "source": [
    "## 2. Data visualization"
   ]
  },
  {
   "cell_type": "code",
   "execution_count": 82,
   "id": "b88beac3",
   "metadata": {},
   "outputs": [
    {
     "name": "stdout",
     "output_type": "stream",
     "text": [
      "Shape: (13, 1)\n"
     ]
    },
    {
     "data": {
      "text/plain": [
       "array([[147],\n",
       "       [150],\n",
       "       [153],\n",
       "       [158],\n",
       "       [163],\n",
       "       [165],\n",
       "       [168],\n",
       "       [170],\n",
       "       [173],\n",
       "       [175],\n",
       "       [178],\n",
       "       [180],\n",
       "       [183]])"
      ]
     },
     "execution_count": 82,
     "metadata": {},
     "output_type": "execute_result"
    }
   ],
   "source": [
    "X = train_df[['height']].values\n",
    "print(f\"Shape: {X.shape}\")\n",
    "X"
   ]
  },
  {
   "cell_type": "code",
   "execution_count": 83,
   "id": "ad6378af",
   "metadata": {},
   "outputs": [
    {
     "name": "stdout",
     "output_type": "stream",
     "text": [
      "Shape: (13, 1)\n"
     ]
    },
    {
     "data": {
      "text/plain": [
       "array([[49],\n",
       "       [50],\n",
       "       [51],\n",
       "       [54],\n",
       "       [58],\n",
       "       [59],\n",
       "       [60],\n",
       "       [72],\n",
       "       [63],\n",
       "       [64],\n",
       "       [66],\n",
       "       [67],\n",
       "       [68]])"
      ]
     },
     "execution_count": 83,
     "metadata": {},
     "output_type": "execute_result"
    }
   ],
   "source": [
    "Y = train_df[['weight']].values\n",
    "print(f\"Shape: {Y.shape}\")\n",
    "Y"
   ]
  },
  {
   "cell_type": "code",
   "execution_count": 91,
   "id": "cd04e0e9",
   "metadata": {},
   "outputs": [
    {
     "data": {
      "image/png": "[encoded data removed]",
      "text/plain": [
       "<Figure size 640x480 with 1 Axes>"
      ]
     },
     "metadata": {},
     "output_type": "display_data"
    }
   ],
   "source": [
    "plt.plot(X, Y, 'rs')\n",
    "plt.axis([140, 190, 45, 75])\n",
    "plt.xlabel('Height (cm)')\n",
    "plt.ylabel('Weight (kg)')\n",
    "plt.show()"
   ]
  },
  {
   "cell_type": "markdown",
   "id": "da23d074",
   "metadata": {},
   "source": [
    "## 3. Solution with Normal Equation"
   ]
  },
  {
   "cell_type": "markdown",
   "id": "b5cb32a7",
   "metadata": {},
   "source": [
    "From this graph, we can see that the data is arranged almost in a straight line (except the `outlier` x = 170, y = 72), so the **Linear Regression** most likely to give a good results with this `hypothesis`: \n",
    "$$\n",
    "\\hat{y} = \\theta_1 \\cdot \\text{x} + \\theta_0\n",
    "$$\n",
    "\n",
    "or, in words:\n",
    "\n",
    "$$\n",
    "\\text{(predicted weight)} = \\theta_1 \\cdot \\text{(given height)} + \\theta_0\n",
    "$$\n",
    "\n",
    "For simplicity, if we **assume the line goes through the origin** (no intercept), then the `hypothesis` reduces to:\n",
    "\n",
    "$$\n",
    "\\hat{y} = \\theta \\cdot x\n",
    "$$\n",
    "\n",
    "\n",
    "After defining the `hypothesis`, we need to initialize a random `theta` and calculate `predicted_weight`. \n",
    "\n",
    "For example:\n",
    "* With `theta` = 1, `x` = 147 and `actual_weight` = 49, `predicted_weight` will be calculated by: \n",
    "\n",
    "$$\n",
    "\\hat{y} = 1 \\cdot 147 = 147 > \\text{actual weight(49)}\n",
    "$$\n",
    "\n",
    "* With `theta` = 1, `x` = 150 and `actual_weight` = 50, `predicted_weight` will be calculated by: \n",
    "\n",
    "$$\n",
    "\\hat{y} = 1 \\cdot 150 = 150 > \\text{actual weight(50)}\n",
    "$$\n",
    "\n",
    "So we need a way to measure **how wrong our prediction is**. This is where the `Loss Function` comes in.  \n",
    "\n",
    "The most common loss function in **Linear Regression** is the **Mean Squared Error (MSE)**:\n",
    "\n",
    "$$\n",
    "J(\\theta = 1) = \\frac{1}{n} \\sum_{i=1}^n \\left( y_i - \\hat{y}_i \\right)^2\n",
    "$$\n",
    "\n",
    "$$\n",
    "= \\frac{1}{2} \\sum_{i=1}^2 \\left( y_i - 1 \\cdot x_i \\right)^2\n",
    "$$\n",
    "\n",
    "$$\n",
    "= \\frac{1}{2} [\\left(y_1 - 1 \\cdot x_1 \\right)^2 + \\left(y_2 - 1 \\cdot x_2 \\right)^2]\n",
    "$$\n",
    "\n",
    "$$\n",
    "= \\frac{1}{2} [\\left(49 - 1 \\cdot 147 \\right)^2 + \\left(50 - 1 \\cdot 150 \\right)^2]\n",
    "$$\n",
    "\n",
    "$$\n",
    "= 9802\n",
    "$$\n",
    "\n",
    "- If the predicted values are close to the actual values, the loss will be small.  \n",
    "- If the predicted values are far away, the loss will be large.  \n",
    "\n",
    "So, our goal is to find the value of **theta** that **minimizes** this loss function (by Derivative).\n",
    "\n",
    "We have Loss Function (MSE) for n sample:\n",
    "\n",
    "$$\n",
    "J(\\theta) = \\frac{1}{n}\\sum_{i=1}^n (y_i - \\theta x_i)^2\n",
    "$$\n",
    "\n",
    "Take the derivative according to `theta`:\n",
    "\n",
    "$$\n",
    "\\frac{dJ}{d\\theta}\n",
    "= \\frac{1}{n}\\sum_{i=1}^n 2 (y_i - \\theta x_i)\\cdot(-x_i)\n",
    "= -\\frac{2}{n}\\sum_{i=1}^n x_i (y_i - \\theta x_i)\n",
    "$$\n",
    "\n",
    "To find the minimum, let the derivative = 0:\n",
    "\n",
    "$$\n",
    "-\\frac{2}{n}\\sum_{i=1}^n x_i (y_i - \\theta x_i) = 0\n",
    "\\quad\\Longrightarrow\\quad\n",
    "\\sum_{i=1}^n x_i y_i - \\theta \\sum_{i=1}^n x_i^2 = 0\n",
    "$$\n",
    "\n",
    "Hence the solution for `theta`:\n",
    "\n",
    "$$\n",
    "\\boxed{\\;\\theta = \\dfrac{\\sum_{i=1}^n x_i y_i}{\\sum_{i=1}^n x_i^2}\\;}\n",
    "$$\n",
    "\n",
    "We can check that it is a minimum using the second derivative:\n",
    "\n",
    "$$\n",
    "\\frac{d^2 J}{d\\theta^2} = \\frac{2}{n}\\sum_{i=1}^n x_i^2\n",
    "\\qquad\n",
    "with \n",
    "\\qquad\n",
    " \\sum_{i=1}^n x_i^2 \\ge 0, \\sum_{i=1}^n x_i^2 > 0 \\quad iff \\exists i : x_i \\ne 0\n",
    "$$\n",
    "\n",
    "---\n",
    "\n",
    "* Definition:\n",
    "  * `Hypothesis` (n): The model's presumption regarding the connection between the input features and the result.\n",
    "  * `Outlier` (n): A data point that significantly deviates from the majority of observations in a dataset.\n",
    "\n"
   ]
  }
 ],
 "metadata": {
  "kernelspec": {
   "display_name": ".venv",
   "language": "python",
   "name": "python3"
  },
  "language_info": {
   "codemirror_mode": {
    "name": "ipython",
    "version": 3
   },
   "file_extension": ".py",
   "mimetype": "text/x-python",
   "name": "python",
   "nbconvert_exporter": "python",
   "pygments_lexer": "ipython3",
   "version": "3.12.3"
  }
 },
 "nbformat": 4,
 "nbformat_minor": 5
}
